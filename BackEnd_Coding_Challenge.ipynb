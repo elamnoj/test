{
 "cells": [
  {
   "cell_type": "markdown",
   "metadata": {},
   "source": [
    "# Problem 1\n",
    "\n",
    "Please write a function to deduplicate an iterable while preserving order (order is based on the first occurrence of each unique item in the iterable).\n",
    "\n",
    "### Arguments:\n",
    "#### • Iterable\n",
    "#### • (Optional) Function argument that can be applied to each element and used to deduplicate, instead of the element itself.\n",
    "### Returns:\n",
    "#### • Deduplicated iterable\n",
    "\n",
    "### Example usage follows.\n",
    "\n",
    "deduplicate([1, 3, 2, 3])\n",
    "\n",
    "[1, 3, 2]\n",
    "\n",
    "deduplicate([5, 8, 9, 6, 10], lambda x: x % 3)\n",
    "\n",
    "[5, 9, 10]\n",
    "\n",
    "deduplicate([1, -1, -2, 2, 3], abs)\n",
    "\n",
    "[1, -2, 3]"
   ]
  },
  {
   "cell_type": "markdown",
   "metadata": {},
   "source": [
    "The first premise is simple enough. My inclination on reading this for the first time is to use a simple membership test. "
   ]
  },
  {
   "cell_type": "code",
   "execution_count": 1,
   "metadata": {},
   "outputs": [],
   "source": [
    "def deduplicate(_list):\n",
    "    new=[]\n",
    "    for i in _list:\n",
    "        if i not in new:\n",
    "            new.append(i)\n",
    "    return new"
   ]
  },
  {
   "cell_type": "code",
   "execution_count": 2,
   "metadata": {},
   "outputs": [
    {
     "data": {
      "text/plain": [
       "[1, 3, 2]"
      ]
     },
     "execution_count": 2,
     "metadata": {},
     "output_type": "execute_result"
    }
   ],
   "source": [
    "deduplicate([1, 3, 2, 3])"
   ]
  },
  {
   "cell_type": "markdown",
   "metadata": {},
   "source": [
    "The above function works fine for a simple membership test. But becomes slightly more complicated for added function arguments I like making use of dictionaries and the OrderedDict from the collections library built into Python, mostly because it allows be to keep track of inputs/outputs."
   ]
  },
  {
   "cell_type": "code",
   "execution_count": 3,
   "metadata": {},
   "outputs": [],
   "source": [
    "from collections import OrderedDict\n",
    "\n",
    "def deduplicate2(_list,arg):\n",
    "    new= {}\n",
    "    result = {}\n",
    "    for i in _list:\n",
    "        new[i] = arg(i)\n",
    "    for key,value in new.items():\n",
    "        if value not in result.values():\n",
    "            result[key] = value\n",
    "    return result.keys()"
   ]
  },
  {
   "cell_type": "code",
   "execution_count": 4,
   "metadata": {},
   "outputs": [
    {
     "data": {
      "text/plain": [
       "dict_keys([5, 9, 10])"
      ]
     },
     "execution_count": 4,
     "metadata": {},
     "output_type": "execute_result"
    }
   ],
   "source": [
    "deduplicate2([5, 8, 9, 6, 10], lambda x: x % 3)"
   ]
  },
  {
   "cell_type": "markdown",
   "metadata": {},
   "source": [
    "# Problem 2\n",
    "### Please write a function to truncate a string to n characters by replacing the middle characters with an ellipsis ..., unless the ellipsis would replace fewer than 5 characters, in which case do not truncate the string.\n",
    "### Arguments:\n",
    "#### • String - A string of any length\n",
    "#### • (Optional, default 40) Integer – Maximum length of the string, including the ellipsis (unless the ellipsis would replace <5 characters) \n",
    "#### Returns:\n",
    "#### • A string of maximum 41 characters (40 plus an ellipsis) Example usage follows.\n",
    "#### truncate_middle(\"I wandered lonely as a cloud / That floats on high o'er vales and hills\")\n",
    "#### 'I wandered lonely as...'er vales and hills'\n",
    "#### truncate_middle(\"I saw his round mouth's crimson deepen as it fell\", 25) 'I saw his ro...n as it fell'\n",
    "#### truncate_middle(\"Much have I travell'd in the realms of gold\") \"Much have I travell'd in the realms of gold\""
   ]
  },
  {
   "cell_type": "code",
   "execution_count": null,
   "metadata": {},
   "outputs": [],
   "source": []
  },
  {
   "cell_type": "code",
   "execution_count": 5,
   "metadata": {},
   "outputs": [],
   "source": [
    "string=\"I wandered lonely as a cloud / That floats on high o'er vales and hills\"\n",
    "\n",
    "def truncate_middle(string,n):\n",
    "    if len(string) - n < 5:\n",
    "        return string\n",
    "    else:\n",
    "        return f'{string[:(n//2)]}...{string[-(n//2):]}'\n",
    "        \n"
   ]
  },
  {
   "cell_type": "code",
   "execution_count": 6,
   "metadata": {},
   "outputs": [
    {
     "data": {
      "text/plain": [
       "'I saw his ro...n as it fell'"
      ]
     },
     "execution_count": 6,
     "metadata": {},
     "output_type": "execute_result"
    }
   ],
   "source": [
    "truncate_middle(\"I saw his round mouth's crimson deepen as it fell\", 25)"
   ]
  },
  {
   "cell_type": "markdown",
   "metadata": {},
   "source": [
    "### Please write a function with the following docstring:\n",
    "\n",
    "### Turn an array of strings into URL-safe slugs by:\n",
    "#### 1) trimming them\n",
    "#### 2) converting them to lowercase\n",
    "#### 3) replacing non-alphanumeric or non-ASCII characters with hyphens\n",
    "#### 4) reducing adjacent hyphens to single hyphens\n",
    "#### 5) appending numbers to duplicate slugs, to make them unique within the array (after applying steps 1-4)\n",
    "\n",
    "#### Arguments:\n",
    "inputs {[String]} -- A list of strings\n",
    "\n",
    "#### Returns:\n",
    "An array of URL-safe slugs\n",
    "\n",
    "#### Examples:\n",
    "slugify(['Alex', 'Alex Alexander', 'alex@metop.io', 'ALEX']) \n",
    "['alex', 'alex-alexander', 'alex-metop-io', 'alex-1']\n",
    "\n",
    "slugify(['Alex', 'alex ', ' Another Alex', 'ALEX', 'another.?.alex'])\n",
    "['alex', 'alex-1', 'another-alex', 'alex-2', 'another-alex-1']\n",
    "\n",
    "slugify(['Alex 1', 'Alex 3', 'Alex', 'Alex']) \n",
    "['alex-1', 'alex-3', 'alex', 'alex-2']\n",
    "\n",
    "(URL-safe letters, in this case, are ASCII characters matching the regex [A-Za-z0-9-]. Alphanumeric characters match [A-Za-z0-9].)"
   ]
  },
  {
   "cell_type": "code",
   "execution_count": 7,
   "metadata": {},
   "outputs": [],
   "source": [
    "import re\n",
    "\n",
    "def slugify(array):\n",
    "    _list = []\n",
    "    final = {}\n",
    "#   Formatting string for lower case, whitespace, and non-alphanumerics\n",
    "    for i in array:\n",
    "        new=re.sub('\\W+', '-', i.strip().lower())\n",
    "        _list.append(new)\n",
    "#   Appending slugs to duplicate slugs\n",
    "    for x in _list:\n",
    "        if x in final:\n",
    "            final[x] += 1\n",
    "            yield \"%s-%d\" % (x, final[x])\n",
    "        else:\n",
    "            final[x] = 0\n",
    "            yield x\n",
    "    return final"
   ]
  },
  {
   "cell_type": "code",
   "execution_count": 8,
   "metadata": {},
   "outputs": [
    {
     "name": "stdout",
     "output_type": "stream",
     "text": [
      "['alex', 'alex-alexander', 'alex-metop-io', 'alex-1']\n"
     ]
    }
   ],
   "source": [
    "print(list(slugify(['Alex', 'Alex Alexander', 'alex@metop.io', 'ALEX'])))"
   ]
  }
 ],
 "metadata": {
  "kernelspec": {
   "display_name": "Python 3",
   "language": "python",
   "name": "python3"
  },
  "language_info": {
   "codemirror_mode": {
    "name": "ipython",
    "version": 3
   },
   "file_extension": ".py",
   "mimetype": "text/x-python",
   "name": "python",
   "nbconvert_exporter": "python",
   "pygments_lexer": "ipython3",
   "version": "3.7.4"
  }
 },
 "nbformat": 4,
 "nbformat_minor": 2
}
